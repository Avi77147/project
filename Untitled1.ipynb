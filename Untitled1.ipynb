{
  "nbformat": 4,
  "nbformat_minor": 0,
  "metadata": {
    "colab": {
      "provenance": []
    },
    "kernelspec": {
      "name": "python3",
      "display_name": "Python 3"
    },
    "language_info": {
      "name": "python"
    }
  },
  "cells": [
    {
      "cell_type": "markdown",
      "source": [
        "we are building a bayesian network to predict a student's performance based on various factors such as intelligence, attendence, difficulty, grade. Performing an exact inference to predict the probability of good performance."
      ],
      "metadata": {
        "id": "QkDIjEwzHUTl"
      }
    },
    {
      "cell_type": "code",
      "execution_count": 53,
      "metadata": {
        "colab": {
          "base_uri": "https://localhost:8080/"
        },
        "id": "OyH7f3_AGW1-",
        "outputId": "10a2176d-e34c-4f63-f5dc-73595ae5c4b9"
      },
      "outputs": [
        {
          "output_type": "stream",
          "name": "stdout",
          "text": [
            "Requirement already satisfied: pgmpy in /usr/local/lib/python3.10/dist-packages (0.1.26)\n",
            "Requirement already satisfied: networkx in /usr/local/lib/python3.10/dist-packages (from pgmpy) (3.4.1)\n",
            "Requirement already satisfied: numpy in /usr/local/lib/python3.10/dist-packages (from pgmpy) (1.26.4)\n",
            "Requirement already satisfied: scipy in /usr/local/lib/python3.10/dist-packages (from pgmpy) (1.13.1)\n",
            "Requirement already satisfied: scikit-learn in /usr/local/lib/python3.10/dist-packages (from pgmpy) (1.5.2)\n",
            "Requirement already satisfied: pandas in /usr/local/lib/python3.10/dist-packages (from pgmpy) (2.2.2)\n",
            "Requirement already satisfied: pyparsing in /usr/local/lib/python3.10/dist-packages (from pgmpy) (3.2.0)\n",
            "Requirement already satisfied: torch in /usr/local/lib/python3.10/dist-packages (from pgmpy) (2.4.1+cu121)\n",
            "Requirement already satisfied: statsmodels in /usr/local/lib/python3.10/dist-packages (from pgmpy) (0.14.4)\n",
            "Requirement already satisfied: tqdm in /usr/local/lib/python3.10/dist-packages (from pgmpy) (4.66.5)\n",
            "Requirement already satisfied: joblib in /usr/local/lib/python3.10/dist-packages (from pgmpy) (1.4.2)\n",
            "Requirement already satisfied: opt-einsum in /usr/local/lib/python3.10/dist-packages (from pgmpy) (3.4.0)\n",
            "Requirement already satisfied: xgboost in /usr/local/lib/python3.10/dist-packages (from pgmpy) (2.1.1)\n",
            "Requirement already satisfied: google-generativeai in /usr/local/lib/python3.10/dist-packages (from pgmpy) (0.7.2)\n",
            "Requirement already satisfied: google-ai-generativelanguage==0.6.6 in /usr/local/lib/python3.10/dist-packages (from google-generativeai->pgmpy) (0.6.6)\n",
            "Requirement already satisfied: google-api-core in /usr/local/lib/python3.10/dist-packages (from google-generativeai->pgmpy) (2.19.2)\n",
            "Requirement already satisfied: google-api-python-client in /usr/local/lib/python3.10/dist-packages (from google-generativeai->pgmpy) (2.137.0)\n",
            "Requirement already satisfied: google-auth>=2.15.0 in /usr/local/lib/python3.10/dist-packages (from google-generativeai->pgmpy) (2.27.0)\n",
            "Requirement already satisfied: protobuf in /usr/local/lib/python3.10/dist-packages (from google-generativeai->pgmpy) (3.20.3)\n",
            "Requirement already satisfied: pydantic in /usr/local/lib/python3.10/dist-packages (from google-generativeai->pgmpy) (2.9.2)\n",
            "Requirement already satisfied: typing-extensions in /usr/local/lib/python3.10/dist-packages (from google-generativeai->pgmpy) (4.12.2)\n",
            "Requirement already satisfied: proto-plus<2.0.0dev,>=1.22.3 in /usr/local/lib/python3.10/dist-packages (from google-ai-generativelanguage==0.6.6->google-generativeai->pgmpy) (1.24.0)\n",
            "Requirement already satisfied: python-dateutil>=2.8.2 in /usr/local/lib/python3.10/dist-packages (from pandas->pgmpy) (2.8.2)\n",
            "Requirement already satisfied: pytz>=2020.1 in /usr/local/lib/python3.10/dist-packages (from pandas->pgmpy) (2024.2)\n",
            "Requirement already satisfied: tzdata>=2022.7 in /usr/local/lib/python3.10/dist-packages (from pandas->pgmpy) (2024.2)\n",
            "Requirement already satisfied: threadpoolctl>=3.1.0 in /usr/local/lib/python3.10/dist-packages (from scikit-learn->pgmpy) (3.5.0)\n",
            "Requirement already satisfied: patsy>=0.5.6 in /usr/local/lib/python3.10/dist-packages (from statsmodels->pgmpy) (0.5.6)\n",
            "Requirement already satisfied: packaging>=21.3 in /usr/local/lib/python3.10/dist-packages (from statsmodels->pgmpy) (24.1)\n",
            "Requirement already satisfied: filelock in /usr/local/lib/python3.10/dist-packages (from torch->pgmpy) (3.16.1)\n",
            "Requirement already satisfied: sympy in /usr/local/lib/python3.10/dist-packages (from torch->pgmpy) (1.13.3)\n",
            "Requirement already satisfied: jinja2 in /usr/local/lib/python3.10/dist-packages (from torch->pgmpy) (3.1.4)\n",
            "Requirement already satisfied: fsspec in /usr/local/lib/python3.10/dist-packages (from torch->pgmpy) (2024.6.1)\n",
            "Requirement already satisfied: nvidia-nccl-cu12 in /usr/local/lib/python3.10/dist-packages (from xgboost->pgmpy) (2.23.4)\n",
            "Requirement already satisfied: googleapis-common-protos<2.0.dev0,>=1.56.2 in /usr/local/lib/python3.10/dist-packages (from google-api-core->google-generativeai->pgmpy) (1.65.0)\n",
            "Requirement already satisfied: requests<3.0.0.dev0,>=2.18.0 in /usr/local/lib/python3.10/dist-packages (from google-api-core->google-generativeai->pgmpy) (2.32.3)\n",
            "Requirement already satisfied: cachetools<6.0,>=2.0.0 in /usr/local/lib/python3.10/dist-packages (from google-auth>=2.15.0->google-generativeai->pgmpy) (5.5.0)\n",
            "Requirement already satisfied: pyasn1-modules>=0.2.1 in /usr/local/lib/python3.10/dist-packages (from google-auth>=2.15.0->google-generativeai->pgmpy) (0.4.1)\n",
            "Requirement already satisfied: rsa<5,>=3.1.4 in /usr/local/lib/python3.10/dist-packages (from google-auth>=2.15.0->google-generativeai->pgmpy) (4.9)\n",
            "Requirement already satisfied: six in /usr/local/lib/python3.10/dist-packages (from patsy>=0.5.6->statsmodels->pgmpy) (1.16.0)\n",
            "Requirement already satisfied: httplib2<1.dev0,>=0.19.0 in /usr/local/lib/python3.10/dist-packages (from google-api-python-client->google-generativeai->pgmpy) (0.22.0)\n",
            "Requirement already satisfied: google-auth-httplib2<1.0.0,>=0.2.0 in /usr/local/lib/python3.10/dist-packages (from google-api-python-client->google-generativeai->pgmpy) (0.2.0)\n",
            "Requirement already satisfied: uritemplate<5,>=3.0.1 in /usr/local/lib/python3.10/dist-packages (from google-api-python-client->google-generativeai->pgmpy) (4.1.1)\n",
            "Requirement already satisfied: MarkupSafe>=2.0 in /usr/local/lib/python3.10/dist-packages (from jinja2->torch->pgmpy) (3.0.1)\n",
            "Requirement already satisfied: annotated-types>=0.6.0 in /usr/local/lib/python3.10/dist-packages (from pydantic->google-generativeai->pgmpy) (0.7.0)\n",
            "Requirement already satisfied: pydantic-core==2.23.4 in /usr/local/lib/python3.10/dist-packages (from pydantic->google-generativeai->pgmpy) (2.23.4)\n",
            "Requirement already satisfied: mpmath<1.4,>=1.1.0 in /usr/local/lib/python3.10/dist-packages (from sympy->torch->pgmpy) (1.3.0)\n",
            "Requirement already satisfied: grpcio<2.0dev,>=1.33.2 in /usr/local/lib/python3.10/dist-packages (from google-api-core[grpc]!=2.0.*,!=2.1.*,!=2.10.*,!=2.2.*,!=2.3.*,!=2.4.*,!=2.5.*,!=2.6.*,!=2.7.*,!=2.8.*,!=2.9.*,<3.0.0dev,>=1.34.1->google-ai-generativelanguage==0.6.6->google-generativeai->pgmpy) (1.64.1)\n",
            "Requirement already satisfied: grpcio-status<2.0.dev0,>=1.33.2 in /usr/local/lib/python3.10/dist-packages (from google-api-core[grpc]!=2.0.*,!=2.1.*,!=2.10.*,!=2.2.*,!=2.3.*,!=2.4.*,!=2.5.*,!=2.6.*,!=2.7.*,!=2.8.*,!=2.9.*,<3.0.0dev,>=1.34.1->google-ai-generativelanguage==0.6.6->google-generativeai->pgmpy) (1.48.2)\n",
            "Requirement already satisfied: pyasn1<0.7.0,>=0.4.6 in /usr/local/lib/python3.10/dist-packages (from pyasn1-modules>=0.2.1->google-auth>=2.15.0->google-generativeai->pgmpy) (0.6.1)\n",
            "Requirement already satisfied: charset-normalizer<4,>=2 in /usr/local/lib/python3.10/dist-packages (from requests<3.0.0.dev0,>=2.18.0->google-api-core->google-generativeai->pgmpy) (3.4.0)\n",
            "Requirement already satisfied: idna<4,>=2.5 in /usr/local/lib/python3.10/dist-packages (from requests<3.0.0.dev0,>=2.18.0->google-api-core->google-generativeai->pgmpy) (3.10)\n",
            "Requirement already satisfied: urllib3<3,>=1.21.1 in /usr/local/lib/python3.10/dist-packages (from requests<3.0.0.dev0,>=2.18.0->google-api-core->google-generativeai->pgmpy) (2.2.3)\n",
            "Requirement already satisfied: certifi>=2017.4.17 in /usr/local/lib/python3.10/dist-packages (from requests<3.0.0.dev0,>=2.18.0->google-api-core->google-generativeai->pgmpy) (2024.8.30)\n"
          ]
        }
      ],
      "source": [
        "pip install pgmpy"
      ]
    },
    {
      "cell_type": "markdown",
      "source": [
        "pgmpy is a python library for probabilistic graphical model, specially used to work with bayesian networks, markov models, and other graphical model."
      ],
      "metadata": {
        "id": "AzgSEfkKHcWk"
      }
    },
    {
      "cell_type": "code",
      "source": [
        "from pgmpy.models import BayesianNetwork\n",
        "from pgmpy.factors.discrete import TabularCPD\n",
        "from pgmpy.inference import VariableElimination"
      ],
      "metadata": {
        "id": "aCpD9kLYGbZi"
      },
      "execution_count": 54,
      "outputs": []
    },
    {
      "cell_type": "markdown",
      "source": [
        "We are importing the neccesary modules from pgmpy library laike BayesianNetwork, TabularCPD, VariableElimination"
      ],
      "metadata": {
        "id": "a-ff9shqHdyc"
      }
    },
    {
      "cell_type": "code",
      "source": [
        "model = BayesianNetwork([('Intelligence','Grade'),\n",
        "                         ('Difficulty','Grade'),\n",
        "                         ('Attendence','Performance'),\n",
        "                         ('Grade','Performance')])"
      ],
      "metadata": {
        "id": "bhY6nO5tGfxJ"
      },
      "execution_count": 55,
      "outputs": []
    },
    {
      "cell_type": "markdown",
      "source": [
        "Here, We create a Bayesian network and define its structure. In our case, there are 5 variables : (Intelligence, Difficulty, Attendence, Grade, Performance)\n",
        "\n",
        ".Intelligence and Difficulty influence the Grade.\n",
        "\n",
        ".Grade and Attendance influence Performance.\n"
      ],
      "metadata": {
        "id": "rMEGN-WEHhlj"
      }
    },
    {
      "cell_type": "code",
      "source": [
        "cpd_intelligence = TabularCPD(variable='Intelligence', variable_card=2, values=[[0.2], [0.8]])"
      ],
      "metadata": {
        "id": "nOvrGgZQGiaU"
      },
      "execution_count": 72,
      "outputs": []
    },
    {
      "cell_type": "markdown",
      "source": [
        "We define the prior probability for intelligence, the variable is binary (0=not intelligent, 1=intelligent)"
      ],
      "metadata": {
        "id": "Pp5J2PcFHzAj"
      }
    },
    {
      "cell_type": "code",
      "source": [
        "print(cpd_intelligence)"
      ],
      "metadata": {
        "colab": {
          "base_uri": "https://localhost:8080/"
        },
        "id": "_pDRGEAxGluM",
        "outputId": "dfb46c6a-83e0-43b8-b278-43acde6f3a03"
      },
      "execution_count": 57,
      "outputs": [
        {
          "output_type": "stream",
          "name": "stdout",
          "text": [
            "+-----------------+-----+\n",
            "| Intelligence(0) | 0.2 |\n",
            "+-----------------+-----+\n",
            "| Intelligence(1) | 0.7 |\n",
            "+-----------------+-----+\n"
          ]
        }
      ]
    },
    {
      "cell_type": "markdown",
      "source": [
        "CPD for Intelligence."
      ],
      "metadata": {
        "id": "iscu93TwH1cj"
      }
    },
    {
      "cell_type": "code",
      "source": [
        "cpd_difficulty = TabularCPD(variable='Difficulty', variable_card=2, values=[[0.8], [0.2]])"
      ],
      "metadata": {
        "id": "Dg9V6E1BGqdM"
      },
      "execution_count": 73,
      "outputs": []
    },
    {
      "cell_type": "markdown",
      "source": [
        "We define the prior probability for Difficulty, the variable is binary (0=not difficult, 1=difficult)"
      ],
      "metadata": {
        "id": "P0FPwL1-H7Cj"
      }
    },
    {
      "cell_type": "code",
      "source": [
        "print(cpd_difficulty)"
      ],
      "metadata": {
        "colab": {
          "base_uri": "https://localhost:8080/"
        },
        "id": "B1CZae9tGtM7",
        "outputId": "0517e52c-fd76-479a-e78e-193814fba4ce"
      },
      "execution_count": 59,
      "outputs": [
        {
          "output_type": "stream",
          "name": "stdout",
          "text": [
            "+---------------+-----+\n",
            "| Difficulty(0) | 0.7 |\n",
            "+---------------+-----+\n",
            "| Difficulty(1) | 0.2 |\n",
            "+---------------+-----+\n"
          ]
        }
      ]
    },
    {
      "cell_type": "markdown",
      "source": [
        "CPD for Difficulty"
      ],
      "metadata": {
        "id": "b-pCLHuPH8Rb"
      }
    },
    {
      "cell_type": "code",
      "source": [
        "cpd_attendence = TabularCPD(variable='Attendence', variable_card=2, values=[[0.2], [0.8]])"
      ],
      "metadata": {
        "id": "iuznG_5XGvWE"
      },
      "execution_count": 60,
      "outputs": []
    },
    {
      "cell_type": "markdown",
      "source": [
        "We define the prior probability for attendence, the variable is binary (0=not attended, 1=attended)"
      ],
      "metadata": {
        "id": "xYrWglsoIAAD"
      }
    },
    {
      "cell_type": "code",
      "source": [
        "print(cpd_attendence)"
      ],
      "metadata": {
        "colab": {
          "base_uri": "https://localhost:8080/"
        },
        "id": "6a_b5wc2GywV",
        "outputId": "df54f97d-160b-4229-b0c7-7535e0534f91"
      },
      "execution_count": 61,
      "outputs": [
        {
          "output_type": "stream",
          "name": "stdout",
          "text": [
            "+---------------+-----+\n",
            "| Attendence(0) | 0.2 |\n",
            "+---------------+-----+\n",
            "| Attendence(1) | 0.8 |\n",
            "+---------------+-----+\n"
          ]
        }
      ]
    },
    {
      "cell_type": "markdown",
      "source": [
        "CPD for Attendence"
      ],
      "metadata": {
        "id": "7zXQYcpbIBEK"
      }
    },
    {
      "cell_type": "code",
      "source": [
        "cpd_grade = TabularCPD(variable='Grade', variable_card=3,\n",
        "                       values=[[0.8,0.5,0.9,0.6],\n",
        "                               [0.15,0.3,0.08,0.3],\n",
        "                               [0.05,0.2,0.02,0.1]],\n",
        "                       evidence=['Intelligence','Difficulty'], evidence_card=[2,2])"
      ],
      "metadata": {
        "id": "shDU2LGVGzZ0"
      },
      "execution_count": 62,
      "outputs": []
    },
    {
      "cell_type": "markdown",
      "source": [
        "The Grade depends on both Intelligence and Difficulty. variable_card=3: This means Grade can take 3 values (A, B, C). evidence=['Intelligence', 'Difficulty']: The Grade depends on two parent nodes: Intelligence and Difficulty. evidence_card=[2, 2]: Both Intelligence and Difficulty are binary variables (True/False), so they each have 2 possible values."
      ],
      "metadata": {
        "id": "SItvpg0-IDq7"
      }
    },
    {
      "cell_type": "code",
      "source": [
        "print(cpd_grade)"
      ],
      "metadata": {
        "colab": {
          "base_uri": "https://localhost:8080/"
        },
        "id": "78fSxXH2G3bc",
        "outputId": "be99c3a2-17bc-479f-b924-4ea575295f56"
      },
      "execution_count": 63,
      "outputs": [
        {
          "output_type": "stream",
          "name": "stdout",
          "text": [
            "+--------------+-----------------+-----------------+-----------------+-----------------+\n",
            "| Intelligence | Intelligence(0) | Intelligence(0) | Intelligence(1) | Intelligence(1) |\n",
            "+--------------+-----------------+-----------------+-----------------+-----------------+\n",
            "| Difficulty   | Difficulty(0)   | Difficulty(1)   | Difficulty(0)   | Difficulty(1)   |\n",
            "+--------------+-----------------+-----------------+-----------------+-----------------+\n",
            "| Grade(0)     | 0.8             | 0.5             | 0.9             | 0.6             |\n",
            "+--------------+-----------------+-----------------+-----------------+-----------------+\n",
            "| Grade(1)     | 0.15            | 0.3             | 0.08            | 0.3             |\n",
            "+--------------+-----------------+-----------------+-----------------+-----------------+\n",
            "| Grade(2)     | 0.05            | 0.2             | 0.02            | 0.1             |\n",
            "+--------------+-----------------+-----------------+-----------------+-----------------+\n"
          ]
        }
      ]
    },
    {
      "cell_type": "markdown",
      "source": [
        "CPD for Grade"
      ],
      "metadata": {
        "id": "9NE99JgSIF5T"
      }
    },
    {
      "cell_type": "code",
      "source": [
        "cpd_performance = TabularCPD(variable='Performance', variable_card=2,\n",
        "                             values=[[0.1, 0.3, 0.6, 0.2, 0.5, 0.9],  # Performance=False\n",
        "                                     [0.9, 0.7, 0.4, 0.8, 0.5, 0.1]], # Performance=True\n",
        "                             evidence=['Attendence', 'Grade'], evidence_card=[2, 3])"
      ],
      "metadata": {
        "id": "MEflopksG5dk"
      },
      "execution_count": 70,
      "outputs": []
    },
    {
      "cell_type": "markdown",
      "source": [
        "The Performance depends on Attendance and Grade. variable_card=2: Performance is binary (False or True). evidence=['Attendance', 'Grade']: Performance depends on both Attendance and Grade. evidence_card=[2, 3]: Attendance is binary, while Grade has 3 possible values (A, B, C)."
      ],
      "metadata": {
        "id": "OjWI7ztVIIzb"
      }
    },
    {
      "cell_type": "code",
      "source": [
        "print(cpd_performance)"
      ],
      "metadata": {
        "colab": {
          "base_uri": "https://localhost:8080/"
        },
        "id": "gA2UobTZG8Hs",
        "outputId": "e245b9c1-88d2-4b6a-ac21-d2bf39c8300e"
      },
      "execution_count": 65,
      "outputs": [
        {
          "output_type": "stream",
          "name": "stdout",
          "text": [
            "+----------------+---------------+-----+---------------+---------------+\n",
            "| Attendence     | Attendence(0) | ... | Attendence(1) | Attendence(1) |\n",
            "+----------------+---------------+-----+---------------+---------------+\n",
            "| Grade          | Grade(0)      | ... | Grade(1)      | Grade(2)      |\n",
            "+----------------+---------------+-----+---------------+---------------+\n",
            "| Performance(0) | 0.1           | ... | 0.5           | 0.9           |\n",
            "+----------------+---------------+-----+---------------+---------------+\n",
            "| Performance(1) | 0.9           | ... | 0.5           | 0.1           |\n",
            "+----------------+---------------+-----+---------------+---------------+\n"
          ]
        }
      ]
    },
    {
      "cell_type": "markdown",
      "source": [
        "CPD for Performance"
      ],
      "metadata": {
        "id": "3AY6bmsPINpD"
      }
    },
    {
      "cell_type": "code",
      "source": [
        "model.add_cpds(cpd_intelligence, cpd_difficulty, cpd_attendence, cpd_grade, cpd_performance)"
      ],
      "metadata": {
        "id": "hOVYc8FqG-9E",
        "colab": {
          "base_uri": "https://localhost:8080/"
        },
        "outputId": "7b2c8698-9dd8-4c96-ea5b-b94fbcc62ba5"
      },
      "execution_count": 75,
      "outputs": [
        {
          "output_type": "stream",
          "name": "stderr",
          "text": [
            "WARNING:pgmpy:Replacing existing CPD for Intelligence\n",
            "WARNING:pgmpy:Replacing existing CPD for Difficulty\n",
            "WARNING:pgmpy:Replacing existing CPD for Attendence\n",
            "WARNING:pgmpy:Replacing existing CPD for Grade\n",
            "WARNING:pgmpy:Replacing existing CPD for Performance\n"
          ]
        }
      ]
    },
    {
      "cell_type": "markdown",
      "source": [
        "This line will add all the Conditional Probability Distribution (CPD) to the Bayesian Network Model."
      ],
      "metadata": {
        "id": "e-2n4aspIMBb"
      }
    },
    {
      "cell_type": "code",
      "source": [
        "assert model.check_model()"
      ],
      "metadata": {
        "id": "L7BMrx5JHBes"
      },
      "execution_count": 76,
      "outputs": []
    },
    {
      "cell_type": "markdown",
      "source": [
        "\n",
        "This line will check if the model structure and the CPD's are consistent (sum of all the probability is 1)."
      ],
      "metadata": {
        "id": "NKJGu-RPIUAL"
      }
    },
    {
      "cell_type": "code",
      "source": [
        "infer = VariableElimination(model)"
      ],
      "metadata": {
        "id": "C-VRLb1bHDgz"
      },
      "execution_count": 77,
      "outputs": []
    },
    {
      "cell_type": "markdown",
      "source": [
        "Here, we create an infer object using the VariableElimination algorithm to performs exact inference on the Bayesian Network, computing the exact probabilities based on the observed evidence."
      ],
      "metadata": {
        "id": "1QZmMuxNIUsL"
      }
    },
    {
      "cell_type": "code",
      "source": [
        "posterior = infer.query(variables=['Performance'], evidence={'Difficulty': 1, 'Attendence': 0})"
      ],
      "metadata": {
        "id": "pjPfoVPpHK8W"
      },
      "execution_count": 78,
      "outputs": []
    },
    {
      "cell_type": "markdown",
      "source": [
        "This line queries the posterior probability of the Performance variable given the observed evidence:\n",
        "\n",
        "\n",
        ".Difficulty=1 (the exam is difficult)\n",
        "\n",
        "\n",
        ".Attendance=0 (the student did not attend classes)"
      ],
      "metadata": {
        "id": "GRxEz69-IXvi"
      }
    },
    {
      "cell_type": "code",
      "source": [
        "print(posterior)"
      ],
      "metadata": {
        "id": "XGqE9CnuHOcc",
        "colab": {
          "base_uri": "https://localhost:8080/"
        },
        "outputId": "a33a9b19-f8e6-49c5-8354-2024ccaabd52"
      },
      "execution_count": 79,
      "outputs": [
        {
          "output_type": "stream",
          "name": "stdout",
          "text": [
            "+----------------+--------------------+\n",
            "| Performance    |   phi(Performance) |\n",
            "+================+====================+\n",
            "| Performance(0) |             0.2200 |\n",
            "+----------------+--------------------+\n",
            "| Performance(1) |             0.7800 |\n",
            "+----------------+--------------------+\n"
          ]
        }
      ]
    },
    {
      "cell_type": "markdown",
      "source": [
        "This line will print the resulting Probabilities for performance."
      ],
      "metadata": {
        "id": "tb4Wqc5NIln7"
      }
    }
  ]
}